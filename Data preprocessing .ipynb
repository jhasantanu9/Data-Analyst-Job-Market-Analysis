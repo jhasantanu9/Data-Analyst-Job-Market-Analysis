{
 "cells": [
  {
   "cell_type": "code",
   "execution_count": 23,
   "id": "18c19e1e-23f1-49c7-9ca6-014da2a02d03",
   "metadata": {},
   "outputs": [],
   "source": [
    "import pandas as pd\n",
    "import numpy as np\n",
    "import re\n",
    "from sklearn.feature_extraction.text import CountVectorizer"
   ]
  },
  {
   "cell_type": "code",
   "execution_count": 20,
   "id": "c8dd3e41-56e1-46f4-9207-d232e75a05ff",
   "metadata": {
    "tags": []
   },
   "outputs": [
    {
     "data": {
      "text/html": [
       "<div>\n",
       "<style scoped>\n",
       "    .dataframe tbody tr th:only-of-type {\n",
       "        vertical-align: middle;\n",
       "    }\n",
       "\n",
       "    .dataframe tbody tr th {\n",
       "        vertical-align: top;\n",
       "    }\n",
       "\n",
       "    .dataframe thead th {\n",
       "        text-align: right;\n",
       "    }\n",
       "</style>\n",
       "<table border=\"1\" class=\"dataframe\">\n",
       "  <thead>\n",
       "    <tr style=\"text-align: right;\">\n",
       "      <th></th>\n",
       "      <th>Activelyrecruiting</th>\n",
       "      <th>Title</th>\n",
       "      <th>Company</th>\n",
       "      <th>Link</th>\n",
       "      <th>Experience Level</th>\n",
       "      <th>Employee Count/Domain</th>\n",
       "      <th>Description</th>\n",
       "      <th>Skills</th>\n",
       "    </tr>\n",
       "  </thead>\n",
       "  <tbody>\n",
       "    <tr>\n",
       "      <th>count</th>\n",
       "      <td>650</td>\n",
       "      <td>975</td>\n",
       "      <td>975</td>\n",
       "      <td>975</td>\n",
       "      <td>975</td>\n",
       "      <td>961</td>\n",
       "      <td>833</td>\n",
       "      <td>424</td>\n",
       "    </tr>\n",
       "    <tr>\n",
       "      <th>unique</th>\n",
       "      <td>3</td>\n",
       "      <td>475</td>\n",
       "      <td>794</td>\n",
       "      <td>965</td>\n",
       "      <td>86</td>\n",
       "      <td>230</td>\n",
       "      <td>680</td>\n",
       "      <td>322</td>\n",
       "    </tr>\n",
       "    <tr>\n",
       "      <th>top</th>\n",
       "      <td>Actively recruiting</td>\n",
       "      <td>Data Analyst</td>\n",
       "      <td>Turing · India · Reposted 1 week ago</td>\n",
       "      <td>https://www.linkedin.com/jobs/view/3852553117/...</td>\n",
       "      <td>On-site\\nMatches your job preferences, workpla...</td>\n",
       "      <td>10,001+ employees · IT Services and IT Consulting</td>\n",
       "      <td>About the job\\nExperience: 5.00+ years\\n\\nSala...</td>\n",
       "      <td>['Data Analysis, Data Analytics, Documentation...</td>\n",
       "    </tr>\n",
       "    <tr>\n",
       "      <th>freq</th>\n",
       "      <td>525</td>\n",
       "      <td>220</td>\n",
       "      <td>8</td>\n",
       "      <td>2</td>\n",
       "      <td>162</td>\n",
       "      <td>54</td>\n",
       "      <td>25</td>\n",
       "      <td>25</td>\n",
       "    </tr>\n",
       "  </tbody>\n",
       "</table>\n",
       "</div>"
      ],
      "text/plain": [
       "         Activelyrecruiting         Title  \\\n",
       "count                   650           975   \n",
       "unique                    3           475   \n",
       "top     Actively recruiting  Data Analyst   \n",
       "freq                    525           220   \n",
       "\n",
       "                                     Company  \\\n",
       "count                                    975   \n",
       "unique                                   794   \n",
       "top     Turing · India · Reposted 1 week ago   \n",
       "freq                                       8   \n",
       "\n",
       "                                                     Link  \\\n",
       "count                                                 975   \n",
       "unique                                                965   \n",
       "top     https://www.linkedin.com/jobs/view/3852553117/...   \n",
       "freq                                                    2   \n",
       "\n",
       "                                         Experience Level  \\\n",
       "count                                                 975   \n",
       "unique                                                 86   \n",
       "top     On-site\\nMatches your job preferences, workpla...   \n",
       "freq                                                  162   \n",
       "\n",
       "                                    Employee Count/Domain  \\\n",
       "count                                                 961   \n",
       "unique                                                230   \n",
       "top     10,001+ employees · IT Services and IT Consulting   \n",
       "freq                                                   54   \n",
       "\n",
       "                                              Description  \\\n",
       "count                                                 833   \n",
       "unique                                                680   \n",
       "top     About the job\\nExperience: 5.00+ years\\n\\nSala...   \n",
       "freq                                                   25   \n",
       "\n",
       "                                                   Skills  \n",
       "count                                                 424  \n",
       "unique                                                322  \n",
       "top     ['Data Analysis, Data Analytics, Documentation...  \n",
       "freq                                                   25  "
      ]
     },
     "execution_count": 20,
     "metadata": {},
     "output_type": "execute_result"
    }
   ],
   "source": [
    "df = pd.read_csv('AnalystJobs.csv')\n",
    "df.head()\n",
    "df.describe()"
   ]
  },
  {
   "cell_type": "code",
   "execution_count": 12,
   "id": "faa73863-633d-4a66-8f9c-35cdf721392c",
   "metadata": {
    "tags": []
   },
   "outputs": [
    {
     "data": {
      "text/plain": [
       "10"
      ]
     },
     "execution_count": 12,
     "metadata": {},
     "output_type": "execute_result"
    }
   ],
   "source": [
    " df.duplicated().sum()"
   ]
  },
  {
   "cell_type": "code",
   "execution_count": null,
   "id": "a76a1a64-bbaf-4f5b-8060-702cdbd6c738",
   "metadata": {},
   "outputs": [],
   "source": [
    "df.drop_duplicates(inplace=True)"
   ]
  },
  {
   "cell_type": "code",
   "execution_count": null,
   "id": "7c9e71ad-1fcd-4678-8273-5e40ead8e4ef",
   "metadata": {
    "tags": []
   },
   "outputs": [],
   "source": [
    "# Seprate Column for Location & Company_Name from Company\n",
    "\n",
    "df[['Company_Name', 'Location']] = df['Company'].str.split('·', expand=True)\n",
    "df['Company_Name'] = split_data[0].str.strip()\n",
    "df['Location'] = split_data[1].str.strip()"
   ]
  },
  {
   "cell_type": "code",
   "execution_count": null,
   "id": "d9a18d59-acac-46e2-bd92-57ae9dfbd99e",
   "metadata": {
    "tags": []
   },
   "outputs": [],
   "source": [
    "# Seprate Column for Employee Size & Industry from Employee Count/Domain\n",
    "\n",
    "split_data = df['Employee Count/Domain'].str.split('·', expand=True)\n",
    "df['Employee Size'] = split_data[0].str.strip()\n",
    "df['Industry'] = split_data[1].str.strip()"
   ]
  },
  {
   "cell_type": "code",
   "execution_count": null,
   "id": "8a166fde-7d56-4792-8066-c4e01f30b1ac",
   "metadata": {
    "tags": []
   },
   "outputs": [],
   "source": [
    "df.loc[data['Employee Size'].notna() & data['Employee Size'].str.startswith('See'), 'Employee Size'] = None"
   ]
  },
  {
   "cell_type": "code",
   "execution_count": null,
   "id": "c20089ca-d6c6-43f5-835d-bddd4d6c4266",
   "metadata": {
    "tags": []
   },
   "outputs": [],
   "source": [
    "keywords = ['Internship', 'Entry level', 'Associate', 'Mid-Senior level', 'Director', 'Executive']\n",
    "\n",
    "df['Experience'] = df1['Experience Level'].apply(lambda x: next((word for word in keywords if word in x), None))"
   ]
  },
  {
   "cell_type": "code",
   "execution_count": null,
   "id": "784e2b24-e28c-4b85-a15b-c68778516d9b",
   "metadata": {
    "tags": []
   },
   "outputs": [],
   "source": [
    "keywords = ['On-site', 'Remote', 'Hybrid']\n",
    "\n",
    "df1['Work Mode'] = df1['Experience Level'].apply(lambda x: next((word for word in keywords if word in x), 'Other'))"
   ]
  },
  {
   "cell_type": "code",
   "execution_count": null,
   "id": "4a126fea-1ccf-49ad-b8e3-f1fba3d2fe7e",
   "metadata": {
    "tags": []
   },
   "outputs": [],
   "source": [
    "df.drop(columns=['Experience Level'], inplace=True)\n",
    "df.drop(columns=['Employee Count/Domain'], inplace=True)\n",
    "df.drop(columns=['Company_Name'], inplace=True)"
   ]
  },
  {
   "cell_type": "code",
   "execution_count": null,
   "id": "435671cd-0e85-427b-9206-cbb1b0b420d6",
   "metadata": {
    "tags": []
   },
   "outputs": [],
   "source": [
    "df['Activelyrecruiting'] = df['Activelyrecruiting'].replace('Actively recruiting', 'Yes')"
   ]
  },
  {
   "cell_type": "code",
   "execution_count": null,
   "id": "16d068cd-37e6-406b-aa5f-f3b8e93694b2",
   "metadata": {
    "tags": []
   },
   "outputs": [],
   "source": [
    "new_column_order = ['Link','Title', 'Skills', 'Description', 'Experience', 'Company_Name', 'Location',\n",
    "                    'Employee Size', 'Industry', 'Work Mode', 'Activelyrecruiting']\n",
    "\n",
    "df1 = df1.loc[:, new_column_order]"
   ]
  },
  {
   "cell_type": "code",
   "execution_count": null,
   "id": "fc361cb7-1864-42d2-9e25-fdc91549d42f",
   "metadata": {},
   "outputs": [],
   "source": [
    "df.convert_dtypes(infer_objects=True, convert_string=True, convert_integer=True, convert_boolean=True, convert_floating=True, dtype_backend='numpy_nullable')"
   ]
  },
  {
   "cell_type": "code",
   "execution_count": null,
   "id": "d19d87ef-56de-498f-8c93-8272ae4dc05a",
   "metadata": {
    "tags": []
   },
   "outputs": [],
   "source": [
    "df1.rename(columns={\n",
    "    'Title': 'Job Title',\n",
    "    'Skills': 'Required Skills',\n",
    "    'Description': 'Job Description',\n",
    "    'Experience': 'Required Experience',\n",
    "    'Company_Name': 'Company Name',\n",
    "    'Location': 'Location',\n",
    "    'Employee_Size': 'Employee Size',\n",
    "    'Industry': 'Industry',\n",
    "    'Work Mode': 'Work Mode'\n",
    "    'Activelyrecruiting' : 'Actively recruiting'\n",
    "})"
   ]
  },
  {
   "cell_type": "code",
   "execution_count": null,
   "id": "275d3fd0-85cf-4f7e-8177-d6e2a18152c0",
   "metadata": {},
   "outputs": [],
   "source": [
    "df['Required Skills'] = df['Required Skills'].str.replace(r\"\\['|'\\]\", \"\", regex=True)"
   ]
  },
  {
   "cell_type": "code",
   "execution_count": null,
   "id": "22a4d0be-9a84-41ff-a830-a8a40af392b6",
   "metadata": {
    "tags": []
   },
   "outputs": [],
   "source": [
    "df['Location'] = df['Location'].str.replace('India', '').str.strip()\n",
    "\n",
    "df[['City', 'State']] = df['Location'].str.split(',', expand=True)\n",
    "df['City'] = df['City'].str.strip()\n",
    "df['State'] = df['State'].str.strip()"
   ]
  },
  {
   "cell_type": "code",
   "execution_count": null,
   "id": "16199b24-b5a7-4456-a3f2-b4fd5dc851e9",
   "metadata": {
    "tags": []
   },
   "outputs": [],
   "source": [
    "data.to_csv('modified_data', index=False)"
   ]
  },
  {
   "cell_type": "code",
   "execution_count": 36,
   "id": "e4a78a16-bef0-4c3a-aca3-bb3522d89b54",
   "metadata": {
    "tags": []
   },
   "outputs": [],
   "source": [
    "df = pd.read_csv('modified_data.csv')"
   ]
  },
  {
   "cell_type": "code",
   "execution_count": null,
   "id": "f12b73c5-9dca-4b49-80e9-1baed0f4ea71",
   "metadata": {
    "tags": []
   },
   "outputs": [],
   "source": [
    "\n",
    "df['Job Description'] = df['Job Description'].dropna(inplace=True)\n",
    "\n",
    "def preprocess_text(text):\n",
    "    # Convert text to lowercase\n",
    "    text = text.lower()\n",
    "    # Remove punctuation and special characters\n",
    "    text = text.translate(str.maketrans('', '', string.punctuation))\n",
    "    # Tokenization\n",
    "    tokens = word_tokenize(text)\n",
    "    # Remove stopwords\n",
    "    stop_words = set(stopwords.words('english'))\n",
    "    filtered_tokens = [word for word in tokens if word not in stop_words]\n",
    "    # Lemmatization\n",
    "    lemmatizer = WordNetLemmatizer()\n",
    "    lemmatized_tokens = [lemmatizer.lemmatize(word) for word in filtered_tokens]\n",
    "    return \" \".join(lemmatized_tokens)\n",
    "\n",
    "df['Cleaned_Job_Description'] = df['Job Description'].apply(preprocess_text)\n",
    "\n",
    "\n",
    "# Assuming df['Cleaned_Job_Description'] contains preprocessed job descriptions\n",
    "corpus = df['Cleaned_Job_Description']"
   ]
  },
  {
   "cell_type": "code",
   "execution_count": null,
   "id": "dd3f778e-a707-4bd6-9ccf-584dbce62cd8",
   "metadata": {},
   "outputs": [],
   "source": [
    "def extract_degrees(description):\n",
    "    # Define regex patterns for degree keywords\n",
    "    degree_patterns = {\n",
    "        \"bachelor\": re.compile(r\"(?i)\\b(bachelor'?s?|bs|undergraduate)|b.e|bca|mca|btech\\b\"),\n",
    "        \"master\": re.compile(r\"(?i)\\b(master'?s?|ms|graduate)\\b\"),\n",
    "        \"phd\": re.compile(r\"(?i)\\b(phd|doctorate|doctoral|d\\.? ?phil|ph\\.? ?d\\.?)\\b\")\n",
    "    }\n",
    "\n",
    "    # Initialize degree columns to 0\n",
    "    degrees_present = {degree: 0 for degree in degree_patterns}\n",
    "\n",
    "    # Search for degree patterns in the description\n",
    "    for degree, pattern in degree_patterns.items():\n",
    "        if re.search(pattern, description):\n",
    "            degrees_present[degree] = 1\n",
    "\n",
    "    return degrees_present\n",
    "\n",
    "# Apply the function to each job description\n",
    "degrees_df = corpus.apply(extract_degrees)\n",
    "\n",
    "# Convert the result into a DataFrame\n",
    "degrees_df = pd.DataFrame(degrees_df.tolist(), index=degrees_df.index)\n",
    "\n",
    "# Concatenate the result with the original DataFrame\n",
    "df = pd.concat([df, degrees_df], axis=1)"
   ]
  },
  {
   "cell_type": "code",
   "execution_count": null,
   "id": "6624a385-f0cf-467c-98da-87888e2e2038",
   "metadata": {},
   "outputs": [],
   "source": [
    "df.to_csv('modified_data1.csv')"
   ]
  },
  {
   "cell_type": "code",
   "execution_count": 72,
   "id": "1f439efe-4a3c-47fb-990d-b413d82e8e0b",
   "metadata": {
    "tags": []
   },
   "outputs": [
    {
     "name": "stderr",
     "output_type": "stream",
     "text": [
      "[nltk_data] Downloading package stopwords to\n",
      "[nltk_data]     C:\\Users\\Admin\\AppData\\Roaming\\nltk_data...\n",
      "[nltk_data]   Package stopwords is already up-to-date!\n",
      "UsageError: Line magic function `%%writefile` not found.\n"
     ]
    }
   ],
   "source": [
    "import nltk\n",
    "from nltk.corpus import stopwords\n",
    "nltk.download('stopwords')\n",
    "\n",
    "def tokenize(string):\n",
    "    '''\n",
    "    This function takes in a string and\n",
    "    returns a tokenized string.\n",
    "    '''\n",
    "    tokenizer = nltk.tokenize.ToktokTokenizer()\n",
    "    string = tokenizer.tokenize(string, return_str=True)\n",
    "    return string\n",
    "\n",
    "def remove_stopwords(string, extra_words=[], exclude_words=[]):\n",
    "    '''\n",
    "    This function takes in a string, optional extra_words and exclude_words parameters\n",
    "    with default empty lists and returns a string.\n",
    "    '''\n",
    "    stopword_list = stopwords.words('english')\n",
    "    stopword_list = set(stopword_list) - set(exclude_words)\n",
    "    stopword_list = stopword_list.union(set(extra_words))\n",
    "\n",
    "    words = string.split()\n",
    "    filtered_words = [word for word in words if word not in stopword_list]\n",
    "    string_without_stopwords = ' '.join(filtered_words)\n",
    "\n",
    "    return string_without_stopwords\n",
    "\n",
    "%%writefile process_skill.py"
   ]
  },
  {
   "cell_type": "code",
   "execution_count": null,
   "id": "6d1d5630-9350-4f86-9b97-1184bad1750e",
   "metadata": {},
   "outputs": [],
   "source": []
  }
 ],
 "metadata": {
  "kernelspec": {
   "display_name": "Python 3 (ipykernel)",
   "language": "python",
   "name": "python3"
  },
  "language_info": {
   "codemirror_mode": {
    "name": "ipython",
    "version": 3
   },
   "file_extension": ".py",
   "mimetype": "text/x-python",
   "name": "python",
   "nbconvert_exporter": "python",
   "pygments_lexer": "ipython3",
   "version": "3.11.5"
  }
 },
 "nbformat": 4,
 "nbformat_minor": 5
}
