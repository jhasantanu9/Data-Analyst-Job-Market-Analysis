{
 "cells": [
  {
   "cell_type": "code",
   "execution_count": 2,
   "id": "5fc60867-6d49-4878-865f-7f7071a09c44",
   "metadata": {
    "tags": []
   },
   "outputs": [],
   "source": [
    "import pandas as pd\n",
    "from scipy.stats import chi2_contingency"
   ]
  },
  {
   "cell_type": "code",
   "execution_count": 3,
   "id": "a5526c66-39a4-4ead-99d2-71bc4bf80cdf",
   "metadata": {
    "tags": []
   },
   "outputs": [
    {
     "data": {
      "text/plain": [
       "Index(['Link', 'Job Title', 'Required Skills', 'Job Description',\n",
       "       'Required Experience', 'Company Name', 'Location', 'Employee Size',\n",
       "       'Industry', 'Work Mode', 'Actively recruiting', 'City', 'State',\n",
       "       'Cleaned_Job_Description', 'bachelor', 'master', 'phd'],\n",
       "      dtype='object')"
      ]
     },
     "execution_count": 3,
     "metadata": {},
     "output_type": "execute_result"
    }
   ],
   "source": [
    "df = pd.read_csv('modified_data1.csv')\n",
    "df.columns"
   ]
  },
  {
   "cell_type": "raw",
   "id": "c991f5a9-4dfd-4617-98c9-fe4be24d530f",
   "metadata": {
    "tags": []
   },
   "source": [
    "1. Hypothesis Test for Recruitment Status:\n",
    "\n",
    "H0: The recruitment status (actively recruiting or not) depends on Industry and Location.\n",
    "H1: The recruitment status (actively recruiting or not) does not depend on Industry and Location."
   ]
  },
  {
   "cell_type": "code",
   "execution_count": 50,
   "id": "517041c9-e586-4a5a-84a6-f1836925100b",
   "metadata": {
    "tags": []
   },
   "outputs": [
    {
     "name": "stdout",
     "output_type": "stream",
     "text": [
      "A. Industry\n",
      "Chi-square statistic : 95.53342255520832\n",
      "p-value : 0.4942439206948368\n",
      "Degrees of freedom : 96\n",
      "Fail to reject the null hypothesis.\n",
      "\n",
      "B. Location\n",
      "Chi-square statistic: 93.49937004086907\n",
      "p-value: 0.3793913123754995\n",
      "Degrees of freedom : 90\n",
      "Fail to reject the null hypothesis.\n",
      "\n",
      "The recruitment status (actively recruiting or not) depends on Industry and Location.\n",
      "\n"
     ]
    }
   ],
   "source": [
    "print(\"A. Industry\")\n",
    "\n",
    "\n",
    "df['Actively recruiting'].fillna('No', inplace=True)\n",
    "\n",
    "# Create contingency table with 'Actively recruiting' and 'Industry'\n",
    "contingency_table_industry = pd.crosstab(df['Industry'],df['Actively recruiting'])\n",
    "\n",
    "# Perform chi-square test for industry\n",
    "chi2_industry, p_industry, dof_industry, expected_industry = chi2_contingency(contingency_table_industry)\n",
    "\n",
    "# Create contingency table with 'Actively recruiting' and 'Location'\n",
    "contingency_table_location = pd.crosstab(df['Location'], df['Actively recruiting'])\n",
    "\n",
    "# Perform chi-square test for location\n",
    "chi2_location, p_location, dof_location, expected_location = chi2_contingency(contingency_table_location)\n",
    "\n",
    "# Print results for industry\n",
    "print(\"Chi-square statistic :\", chi2_industry)\n",
    "print(\"p-value :\", p_industry)\n",
    "print(\"Degrees of freedom :\", dof_industry)\n",
    "\n",
    "if p_industry < 0.05:\n",
    "    print(\"Reject the null hypothesis.\")\n",
    "else:\n",
    "    print(\"Fail to reject the null hypothesis.\")\n",
    "\n",
    "    \n",
    "print(\"\\nB. Location\")\n",
    "\n",
    "# Print results for location\n",
    "print(\"Chi-square statistic:\", chi2_location)\n",
    "print(\"p-value:\", p_location)\n",
    "print(\"Degrees of freedom :\", dof_location)\n",
    "\n",
    "if p_location < 0.05:\n",
    "    print(\"Reject the null hypothesis.\")\n",
    "else:\n",
    "    print(\"Fail to reject the null hypothesis.\")\n",
    "\n",
    "    \n",
    "print(\"\\nThe recruitment status (actively recruiting or not) depends on Industry and Location.\\n\")"
   ]
  },
  {
   "cell_type": "raw",
   "id": "2d09911c-2f08-4620-8d20-54457098ea00",
   "metadata": {
    "tags": []
   },
   "source": [
    "2. Hypothesis Test for Required Experience/Degree among Industry:\n",
    "\n",
    "H0: The required experience or degree for jobs in one industry is the same as in another industry.\n",
    "H1: The required experience or degree for jobs differs between industries."
   ]
  },
  {
   "cell_type": "code",
   "execution_count": 32,
   "id": "1fee800f-dd56-4a31-9585-c86a4eba3f33",
   "metadata": {
    "tags": []
   },
   "outputs": [
    {
     "name": "stdout",
     "output_type": "stream",
     "text": [
      "A. Required experience\n",
      "Chi-square statistic: 578.2012853803232\n",
      "p-value : 0.00014321123416839487\n",
      "Degrees of freedom : 460\n",
      "Reject the null hypothesis. The required experience for jobs differs between industries.\n",
      "\n",
      "B. Degree\n",
      "Chi-square statistic: 388.4076451167604\n",
      "p-value : 7.107634640361912e-05\n",
      "Degrees of freedom : 288\n",
      "Reject the null hypothesis. There is a significant relationship between degrees and industries.\n"
     ]
    }
   ],
   "source": [
    "print(\"A. Required experience\")\n",
    "\n",
    "contingency_table_experience = pd.crosstab(df['Required Experience'], df['Industry'])\n",
    "\n",
    "chi2_experience, p_experience, dof_experience, expected_experience = chi2_contingency(contingency_table_experience)\n",
    "\n",
    "print(\"Chi-square statistic:\", chi2_experience)\n",
    "print(\"p-value :\", p_experience)\n",
    "print(\"Degrees of freedom :\", dof_experience)\n",
    "\n",
    "alpha = 0.05\n",
    "if p_experience < alpha:\n",
    "    print(\"Reject the null hypothesis. The required experience for jobs differs between industries.\")\n",
    "else:\n",
    "    print(\"Fail to reject the null hypothesis. The required experience for jobs is the same across industries.\")\n",
    "\n",
    "    \n",
    "print(\"\\nB. Degree\")\n",
    "\n",
    "df['Degree'] = df['bachelor'] + df['master'] + df['phd']\n",
    "\n",
    "contingency_table_degree = pd.crosstab(df['Degree'], df['Industry'])\n",
    "\n",
    "chi2_degree, p_degree, dof_degree, expected_degree = chi2_contingency(contingency_table_degree)\n",
    "\n",
    "print(\"Chi-square statistic:\", chi2_degree)\n",
    "print(\"p-value :\", p_degree)\n",
    "print(\"Degrees of freedom :\", dof_degree)\n",
    "\n",
    "alpha = 0.05\n",
    "if p_degree < alpha:\n",
    "    print(\"Reject the null hypothesis. There is a significant relationship between degrees and industries.\")\n",
    "else:\n",
    "    print(\"Fail to reject the null hypothesis. There is no significant relationship between degrees and industries.\")\n"
   ]
  },
  {
   "cell_type": "code",
   "execution_count": null,
   "id": "aa4a786a-12dc-4d20-bf57-e29b51416f18",
   "metadata": {},
   "outputs": [],
   "source": []
  }
 ],
 "metadata": {
  "kernelspec": {
   "display_name": "Python 3 (ipykernel)",
   "language": "python",
   "name": "python3"
  },
  "language_info": {
   "codemirror_mode": {
    "name": "ipython",
    "version": 3
   },
   "file_extension": ".py",
   "mimetype": "text/x-python",
   "name": "python",
   "nbconvert_exporter": "python",
   "pygments_lexer": "ipython3",
   "version": "3.11.5"
  }
 },
 "nbformat": 4,
 "nbformat_minor": 5
}
